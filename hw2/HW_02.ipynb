{
 "cells": [
  {
   "cell_type": "markdown",
   "metadata": {
    "colab_type": "text",
    "id": "view-in-github"
   },
   "source": [
    "<a href=\"https://colab.research.google.com/gist/qbeer/370770dacb737a35fb06725b69a13c05/02_blank.ipynb\" target=\"_parent\"><img src=\"https://colab.research.google.com/assets/colab-badge.svg\" alt=\"Open In Colab\"/></a>"
   ]
  },
  {
   "cell_type": "markdown",
   "metadata": {
    "id": "ZadqMhWov-qv"
   },
   "source": [
    "# Unsupervised learning & clustering\n",
    "----\n",
    "### 1. Reading data\n",
    "The worldbank_jobs_2016.tsv (can be found in the same folder with this notebook) file contains the Jobs (and other) data for the 2016 year, downloaded from The World Bank's webpage.\n",
    "\n",
    "- Look at the data in any text editor. Build up an overall sense how the data is built up and how the missing values are represented.\n",
    "- Read the file into a pandas dataframe and tell pandas the delimiter (or separator) that separates the columns and which special pattern means if a value is missing.\n",
    "- Keep only those rows, which represents countries, at the end there are some useless rows (with missing country code).\n",
    "- The data is in a long format. Convert it into a wide format, where each row is a single country (with country code) and the column names are the features i.e. the Series Codes, the values in the columns are the measured values of the 2016 [YR 2016 column]. (eg the first column is 'EG.CFT.ACCS.ZS', the second is 'EG.ELC.ACCS.ZS'. Order of the columns does not matter)! Try to use the pivot method.\n",
    "- Check that the features are in numeric format (dtypes), this will be needed for modeling!\n",
    "\n",
    "\n",
    "#### 1/a. Data loading, NaN row removal"
   ]
  },
  {
   "cell_type": "code",
   "execution_count": 173,
   "metadata": {},
   "outputs": [],
   "source": [
    "import matplotlib.pyplot as plt\n",
    "import numpy as np \n",
    "import pandas as pd\n",
    "\n",
    "import sys\n",
    "import os\n",
    "\n",
    "import seaborn as sns"
   ]
  },
  {
   "cell_type": "code",
   "execution_count": 209,
   "metadata": {},
   "outputs": [
    {
     "name": "stdout",
     "output_type": "stream",
     "text": [
      "Index(['Country Name', 'Country Code', 'Series Name', 'Series Code',\n",
      "       '2016 [YR2016]'],\n",
      "      dtype='object')\n",
      "['Afghanistan' 'Albania' 'Algeria' 'American Samoa' 'Andorra' 'Angola'\n",
      " 'Antigua and Barbuda' 'Argentina' 'Armenia' 'Aruba' 'Australia' 'Austria'\n",
      " 'Azerbaijan' 'Bahamas, The' 'Bahrain' 'Bangladesh' 'Barbados' 'Belarus'\n",
      " 'Belgium' 'Belize' 'Benin' 'Bermuda' 'Bhutan' 'Bolivia'\n",
      " 'Bosnia and Herzegovina' 'Botswana' 'Brazil' 'British Virgin Islands'\n",
      " 'Brunei Darussalam' 'Bulgaria' 'Burkina Faso' 'Burundi' 'Cabo Verde'\n",
      " 'Cambodia' 'Cameroon' 'Canada' 'Cayman Islands'\n",
      " 'Central African Republic' 'Chad' 'Channel Islands' 'Chile' 'China'\n",
      " 'Colombia' 'Comoros' 'Congo, Dem. Rep.' 'Congo, Rep.' 'Costa Rica'\n",
      " \"Cote d'Ivoire\" 'Croatia' 'Cuba' 'Curacao' 'Cyprus' 'Czech Republic'\n",
      " 'Denmark' 'Djibouti' 'Dominica' 'Dominican Republic' 'Ecuador'\n",
      " 'Egypt, Arab Rep.' 'El Salvador' 'Equatorial Guinea' 'Eritrea' 'Estonia'\n",
      " 'Eswatini' 'Ethiopia' 'Faroe Islands' 'Fiji' 'Finland' 'France'\n",
      " 'French Polynesia' 'Gabon' 'Gambia, The' 'Georgia' 'Germany' 'Ghana'\n",
      " 'Gibraltar' 'Greece' 'Greenland' 'Grenada' 'Guam' 'Guatemala' 'Guinea'\n",
      " 'Guinea-Bissau' 'Guyana' 'Haiti' 'Honduras' 'Hong Kong SAR, China'\n",
      " 'Hungary' 'Iceland' 'India' 'Indonesia' 'Iran, Islamic Rep.' 'Iraq'\n",
      " 'Ireland' 'Isle of Man' 'Israel' 'Italy' 'Jamaica' 'Japan' 'Jordan'\n",
      " 'Kazakhstan' 'Kenya' 'Kiribati' 'Korea, Dem. People’s Rep.' 'Korea, Rep.'\n",
      " 'Kosovo' 'Kuwait' 'Kyrgyz Republic' 'Lao PDR' 'Latvia' 'Lebanon'\n",
      " 'Lesotho' 'Liberia' 'Libya' 'Liechtenstein' 'Lithuania' 'Luxembourg'\n",
      " 'Macao SAR, China' 'Macedonia, FYR' 'Madagascar' 'Malawi' 'Malaysia'\n",
      " 'Maldives' 'Mali' 'Malta' 'Marshall Islands' 'Mauritania' 'Mauritius'\n",
      " 'Mexico' 'Micronesia, Fed. Sts.' 'Moldova' 'Monaco' 'Mongolia'\n",
      " 'Montenegro' 'Morocco' 'Mozambique' 'Myanmar' 'Namibia' 'Nauru' 'Nepal'\n",
      " 'Netherlands' 'New Caledonia' 'New Zealand' 'Nicaragua' 'Niger' 'Nigeria'\n",
      " 'Northern Mariana Islands' 'Norway' 'Oman' 'Pakistan' 'Palau' 'Panama'\n",
      " 'Papua New Guinea' 'Paraguay' 'Peru' 'Philippines' 'Poland' 'Portugal'\n",
      " 'Puerto Rico' 'Qatar' 'Romania' 'Russian Federation' 'Rwanda' 'Samoa'\n",
      " 'San Marino' 'Sao Tome and Principe' 'Saudi Arabia' 'Senegal' 'Serbia'\n",
      " 'Seychelles' 'Sierra Leone' 'Singapore' 'Sint Maarten (Dutch part)'\n",
      " 'Slovak Republic' 'Slovenia' 'Solomon Islands' 'Somalia' 'South Africa'\n",
      " 'South Sudan' 'Spain' 'Sri Lanka' 'St. Kitts and Nevis' 'St. Lucia'\n",
      " 'St. Martin (French part)' 'St. Vincent and the Grenadines' 'Sudan'\n",
      " 'Suriname' 'Sweden' 'Switzerland' 'Syrian Arab Republic' 'Tajikistan'\n",
      " 'Tanzania' 'Thailand' 'Timor-Leste' 'Togo' 'Tonga' 'Trinidad and Tobago'\n",
      " 'Tunisia' 'Turkey' 'Turkmenistan' 'Turks and Caicos Islands' 'Tuvalu'\n",
      " 'Uganda' 'Ukraine' 'United Arab Emirates' 'United Kingdom'\n",
      " 'United States' 'Uruguay' 'Uzbekistan' 'Vanuatu' 'Venezuela, RB'\n",
      " 'Vietnam' 'Virgin Islands (U.S.)' 'West Bank and Gaza' 'Yemen, Rep.'\n",
      " 'Zambia' 'Zimbabwe' nan 'Data from database: Jobs'\n",
      " 'Last Updated: 02/17/2021']\n",
      "['AFG' 'ALB' 'DZA' 'ASM' 'AND' 'AGO' 'ATG' 'ARG' 'ARM' 'ABW' 'AUS' 'AUT'\n",
      " 'AZE' 'BHS' 'BHR' 'BGD' 'BRB' 'BLR' 'BEL' 'BLZ' 'BEN' 'BMU' 'BTN' 'BOL'\n",
      " 'BIH' 'BWA' 'BRA' 'VGB' 'BRN' 'BGR' 'BFA' 'BDI' 'CPV' 'KHM' 'CMR' 'CAN'\n",
      " 'CYM' 'CAF' 'TCD' 'CHI' 'CHL' 'CHN' 'COL' 'COM' 'COD' 'COG' 'CRI' 'CIV'\n",
      " 'HRV' 'CUB' 'CUW' 'CYP' 'CZE' 'DNK' 'DJI' 'DMA' 'DOM' 'ECU' 'EGY' 'SLV'\n",
      " 'GNQ' 'ERI' 'EST' 'SWZ' 'ETH' 'FRO' 'FJI' 'FIN' 'FRA' 'PYF' 'GAB' 'GMB'\n",
      " 'GEO' 'DEU' 'GHA' 'GIB' 'GRC' 'GRL' 'GRD' 'GUM' 'GTM' 'GIN' 'GNB' 'GUY'\n",
      " 'HTI' 'HND' 'HKG' 'HUN' 'ISL' 'IND' 'IDN' 'IRN' 'IRQ' 'IRL' 'IMN' 'ISR'\n",
      " 'ITA' 'JAM' 'JPN' 'JOR' 'KAZ' 'KEN' 'KIR' 'PRK' 'KOR' 'XKX' 'KWT' 'KGZ'\n",
      " 'LAO' 'LVA' 'LBN' 'LSO' 'LBR' 'LBY' 'LIE' 'LTU' 'LUX' 'MAC' 'MKD' 'MDG'\n",
      " 'MWI' 'MYS' 'MDV' 'MLI' 'MLT' 'MHL' 'MRT' 'MUS' 'MEX' 'FSM' 'MDA' 'MCO'\n",
      " 'MNG' 'MNE' 'MAR' 'MOZ' 'MMR' 'NAM' 'NRU' 'NPL' 'NLD' 'NCL' 'NZL' 'NIC'\n",
      " 'NER' 'NGA' 'MNP' 'NOR' 'OMN' 'PAK' 'PLW' 'PAN' 'PNG' 'PRY' 'PER' 'PHL'\n",
      " 'POL' 'PRT' 'PRI' 'QAT' 'ROU' 'RUS' 'RWA' 'WSM' 'SMR' 'STP' 'SAU' 'SEN'\n",
      " 'SRB' 'SYC' 'SLE' 'SGP' 'SXM' 'SVK' 'SVN' 'SLB' 'SOM' 'ZAF' 'SSD' 'ESP'\n",
      " 'LKA' 'KNA' 'LCA' 'MAF' 'VCT' 'SDN' 'SUR' 'SWE' 'CHE' 'SYR' 'TJK' 'TZA'\n",
      " 'THA' 'TLS' 'TGO' 'TON' 'TTO' 'TUN' 'TUR' 'TKM' 'TCA' 'TUV' 'UGA' 'UKR'\n",
      " 'ARE' 'GBR' 'USA' 'URY' 'UZB' 'VUT' 'VEN' 'VNM' 'VIR' 'PSE' 'YEM' 'ZMB'\n",
      " 'ZWE' nan]\n",
      "       Country Name  Country Code  Series Name  Series Code  2016 [YR2016]\n",
      "0              True          True         True         True           True\n",
      "1              True          True         True         True           True\n",
      "2              True          True         True         True           True\n",
      "3              True          True         True         True           True\n",
      "4              True          True         True         True           True\n",
      "...             ...           ...          ...          ...            ...\n",
      "36017          True          True         True         True           True\n",
      "36018          True          True         True         True           True\n",
      "36019          True          True         True         True           True\n",
      "36020          True          True         True         True           True\n",
      "36021          True          True         True         True           True\n",
      "\n",
      "[36022 rows x 5 columns]\n",
      "Country Name         0\n",
      "Country Code         0\n",
      "Series Name          0\n",
      "Series Code          0\n",
      "2016 [YR2016]    12908\n",
      "dtype: int64\n"
     ]
    }
   ],
   "source": [
    "#tabulator separated file, which has missing values that pandas inserts as NaNs\n",
    "worldbank_data = pd.read_csv(\"02_dataset_worldbank_jobs_2016.tsv\", delimiter=\"\\t\", na_values='..')\n",
    "print(worldbank_data.columns)\n",
    "print(pd.unique(worldbank_data[\"Country Name\"]))           #let's see if these are like actual countries\n",
    "print(pd.unique(worldbank_data[\"Country Code\"]))           # country code could have been used to remove bad rows\n",
    "worldbank_data1 = worldbank_data[:-5]                      #last 5 rows to be removed\n",
    "print(~worldbank_data1.isna())\n",
    "print(worldbank_data1.isna().sum())                        #this simply tells how many nans are in the data, remaining\n",
    "\n",
    "#may become handy\n",
    "features = {n : c for (n, c) in zip(worldbank_data['Series Code'],worldbank_data['Series Name'])}"
   ]
  },
  {
   "cell_type": "markdown",
   "metadata": {},
   "source": [
    "So it seems like that only the end has that couple rows that is unneeded. With the country code, that can be removed. The last 5 rows had to be removed. Due to only these rows being not data rows, they could be removed by just simply counting them.\n",
    "\n",
    "After a quick revision, I see something like \"..\" in data which are NaNs actually -> fixed it, pandas.read_csv can handle predefined\n",
    "\n",
    "#### 1/b. Long to wide dataformat"
   ]
  },
  {
   "cell_type": "code",
   "execution_count": 210,
   "metadata": {},
   "outputs": [
    {
     "data": {
      "text/html": [
       "<div>\n",
       "<style scoped>\n",
       "    .dataframe tbody tr th:only-of-type {\n",
       "        vertical-align: middle;\n",
       "    }\n",
       "\n",
       "    .dataframe tbody tr th {\n",
       "        vertical-align: top;\n",
       "    }\n",
       "\n",
       "    .dataframe thead th {\n",
       "        text-align: right;\n",
       "    }\n",
       "</style>\n",
       "<table border=\"1\" class=\"dataframe\">\n",
       "  <thead>\n",
       "    <tr style=\"text-align: right;\">\n",
       "      <th>Series Code</th>\n",
       "      <th>BM.KLT.DINV.WD.GD.ZS</th>\n",
       "      <th>BM.TRF.PWKR.CD.DT</th>\n",
       "      <th>BX.KLT.DINV.WD.GD.ZS</th>\n",
       "      <th>BX.TRF.PWKR.CD</th>\n",
       "      <th>CM.MKT.LCAP.GD.ZS</th>\n",
       "      <th>EG.ELC.ACCS.ZS</th>\n",
       "      <th>EG.USE.ELEC.KH.PC</th>\n",
       "      <th>EN.POP.DNST</th>\n",
       "      <th>FB.ATM.TOTL.P5</th>\n",
       "      <th>FB.CBK.BRWR.P3</th>\n",
       "      <th>...</th>\n",
       "      <th>SP.POP.TOTL</th>\n",
       "      <th>SP.RUR.TOTL</th>\n",
       "      <th>SP.RUR.TOTL.ZS</th>\n",
       "      <th>SP.URB.TOTL</th>\n",
       "      <th>SP.URB.TOTL.IN.ZS</th>\n",
       "      <th>TM.VAL.ICTG.ZS.UN</th>\n",
       "      <th>TX.QTY.MRCH.XD.WD</th>\n",
       "      <th>TX.VAL.FUEL.ZS.UN</th>\n",
       "      <th>TX.VAL.MRCH.XD.WD</th>\n",
       "      <th>TX.VAL.TECH.MF.ZS</th>\n",
       "    </tr>\n",
       "    <tr>\n",
       "      <th>Country Name</th>\n",
       "      <th></th>\n",
       "      <th></th>\n",
       "      <th></th>\n",
       "      <th></th>\n",
       "      <th></th>\n",
       "      <th></th>\n",
       "      <th></th>\n",
       "      <th></th>\n",
       "      <th></th>\n",
       "      <th></th>\n",
       "      <th></th>\n",
       "      <th></th>\n",
       "      <th></th>\n",
       "      <th></th>\n",
       "      <th></th>\n",
       "      <th></th>\n",
       "      <th></th>\n",
       "      <th></th>\n",
       "      <th></th>\n",
       "      <th></th>\n",
       "      <th></th>\n",
       "    </tr>\n",
       "  </thead>\n",
       "  <tbody>\n",
       "    <tr>\n",
       "      <th>Afghanistan</th>\n",
       "      <td>-0.075895</td>\n",
       "      <td>1.182164e+08</td>\n",
       "      <td>0.480710</td>\n",
       "      <td>2.774835e+08</td>\n",
       "      <td>NaN</td>\n",
       "      <td>84.137138</td>\n",
       "      <td>NaN</td>\n",
       "      <td>53.083405</td>\n",
       "      <td>1.074215</td>\n",
       "      <td>3.051954</td>\n",
       "      <td>...</td>\n",
       "      <td>34656032.0</td>\n",
       "      <td>25985093.0</td>\n",
       "      <td>74.980</td>\n",
       "      <td>8670939.0</td>\n",
       "      <td>25.020</td>\n",
       "      <td>0.262056</td>\n",
       "      <td>185.045514</td>\n",
       "      <td>NaN</td>\n",
       "      <td>434.379370</td>\n",
       "      <td>NaN</td>\n",
       "    </tr>\n",
       "    <tr>\n",
       "      <th>Albania</th>\n",
       "      <td>0.059209</td>\n",
       "      <td>1.471281e+08</td>\n",
       "      <td>8.786734</td>\n",
       "      <td>9.960014e+08</td>\n",
       "      <td>NaN</td>\n",
       "      <td>100.000000</td>\n",
       "      <td>NaN</td>\n",
       "      <td>104.967190</td>\n",
       "      <td>33.806812</td>\n",
       "      <td>157.797944</td>\n",
       "      <td>...</td>\n",
       "      <td>2876101.0</td>\n",
       "      <td>1195854.0</td>\n",
       "      <td>41.579</td>\n",
       "      <td>1680247.0</td>\n",
       "      <td>58.421</td>\n",
       "      <td>2.941437</td>\n",
       "      <td>556.660364</td>\n",
       "      <td>11.178982</td>\n",
       "      <td>750.385083</td>\n",
       "      <td>0.647751</td>\n",
       "    </tr>\n",
       "    <tr>\n",
       "      <th>Algeria</th>\n",
       "      <td>0.029423</td>\n",
       "      <td>5.897023e+07</td>\n",
       "      <td>1.029475</td>\n",
       "      <td>1.696801e+07</td>\n",
       "      <td>NaN</td>\n",
       "      <td>99.439568</td>\n",
       "      <td>NaN</td>\n",
       "      <td>17.048895</td>\n",
       "      <td>8.668604</td>\n",
       "      <td>39.065192</td>\n",
       "      <td>...</td>\n",
       "      <td>40606052.0</td>\n",
       "      <td>11589373.0</td>\n",
       "      <td>28.541</td>\n",
       "      <td>29016679.0</td>\n",
       "      <td>71.459</td>\n",
       "      <td>5.181022</td>\n",
       "      <td>144.936023</td>\n",
       "      <td>93.992128</td>\n",
       "      <td>131.099918</td>\n",
       "      <td>0.343524</td>\n",
       "    </tr>\n",
       "    <tr>\n",
       "      <th>American Samoa</th>\n",
       "      <td>NaN</td>\n",
       "      <td>NaN</td>\n",
       "      <td>NaN</td>\n",
       "      <td>NaN</td>\n",
       "      <td>NaN</td>\n",
       "      <td>NaN</td>\n",
       "      <td>NaN</td>\n",
       "      <td>277.995000</td>\n",
       "      <td>NaN</td>\n",
       "      <td>NaN</td>\n",
       "      <td>...</td>\n",
       "      <td>55599.0</td>\n",
       "      <td>7118.0</td>\n",
       "      <td>12.802</td>\n",
       "      <td>48481.0</td>\n",
       "      <td>87.198</td>\n",
       "      <td>NaN</td>\n",
       "      <td>44.999741</td>\n",
       "      <td>NaN</td>\n",
       "      <td>112.619116</td>\n",
       "      <td>NaN</td>\n",
       "    </tr>\n",
       "    <tr>\n",
       "      <th>Andorra</th>\n",
       "      <td>NaN</td>\n",
       "      <td>NaN</td>\n",
       "      <td>NaN</td>\n",
       "      <td>NaN</td>\n",
       "      <td>NaN</td>\n",
       "      <td>100.000000</td>\n",
       "      <td>NaN</td>\n",
       "      <td>164.427660</td>\n",
       "      <td>NaN</td>\n",
       "      <td>NaN</td>\n",
       "      <td>...</td>\n",
       "      <td>77281.0</td>\n",
       "      <td>9082.0</td>\n",
       "      <td>11.752</td>\n",
       "      <td>68199.0</td>\n",
       "      <td>88.248</td>\n",
       "      <td>NaN</td>\n",
       "      <td>149.884060</td>\n",
       "      <td>NaN</td>\n",
       "      <td>186.046284</td>\n",
       "      <td>NaN</td>\n",
       "    </tr>\n",
       "    <tr>\n",
       "      <th>...</th>\n",
       "      <td>...</td>\n",
       "      <td>...</td>\n",
       "      <td>...</td>\n",
       "      <td>...</td>\n",
       "      <td>...</td>\n",
       "      <td>...</td>\n",
       "      <td>...</td>\n",
       "      <td>...</td>\n",
       "      <td>...</td>\n",
       "      <td>...</td>\n",
       "      <td>...</td>\n",
       "      <td>...</td>\n",
       "      <td>...</td>\n",
       "      <td>...</td>\n",
       "      <td>...</td>\n",
       "      <td>...</td>\n",
       "      <td>...</td>\n",
       "      <td>...</td>\n",
       "      <td>...</td>\n",
       "      <td>...</td>\n",
       "      <td>...</td>\n",
       "    </tr>\n",
       "    <tr>\n",
       "      <th>Virgin Islands (U.S.)</th>\n",
       "      <td>NaN</td>\n",
       "      <td>NaN</td>\n",
       "      <td>NaN</td>\n",
       "      <td>NaN</td>\n",
       "      <td>NaN</td>\n",
       "      <td>100.000000</td>\n",
       "      <td>NaN</td>\n",
       "      <td>307.171429</td>\n",
       "      <td>NaN</td>\n",
       "      <td>NaN</td>\n",
       "      <td>...</td>\n",
       "      <td>107510.0</td>\n",
       "      <td>4859.0</td>\n",
       "      <td>4.520</td>\n",
       "      <td>102651.0</td>\n",
       "      <td>95.480</td>\n",
       "      <td>NaN</td>\n",
       "      <td>NaN</td>\n",
       "      <td>NaN</td>\n",
       "      <td>NaN</td>\n",
       "      <td>NaN</td>\n",
       "    </tr>\n",
       "    <tr>\n",
       "      <th>West Bank and Gaza</th>\n",
       "      <td>-0.335063</td>\n",
       "      <td>3.189228e+07</td>\n",
       "      <td>2.208254</td>\n",
       "      <td>2.010197e+08</td>\n",
       "      <td>25.250974</td>\n",
       "      <td>100.000000</td>\n",
       "      <td>NaN</td>\n",
       "      <td>756.074086</td>\n",
       "      <td>22.711191</td>\n",
       "      <td>134.124190</td>\n",
       "      <td>...</td>\n",
       "      <td>4551566.0</td>\n",
       "      <td>1109308.0</td>\n",
       "      <td>24.372</td>\n",
       "      <td>3442258.0</td>\n",
       "      <td>75.628</td>\n",
       "      <td>3.103988</td>\n",
       "      <td>132.926211</td>\n",
       "      <td>0.163516</td>\n",
       "      <td>199.093781</td>\n",
       "      <td>0.593923</td>\n",
       "    </tr>\n",
       "    <tr>\n",
       "      <th>Yemen, Rep.</th>\n",
       "      <td>0.191607</td>\n",
       "      <td>NaN</td>\n",
       "      <td>-3.080162</td>\n",
       "      <td>NaN</td>\n",
       "      <td>NaN</td>\n",
       "      <td>71.642349</td>\n",
       "      <td>NaN</td>\n",
       "      <td>52.245796</td>\n",
       "      <td>NaN</td>\n",
       "      <td>NaN</td>\n",
       "      <td>...</td>\n",
       "      <td>27584213.0</td>\n",
       "      <td>17821057.0</td>\n",
       "      <td>64.606</td>\n",
       "      <td>9763156.0</td>\n",
       "      <td>35.394</td>\n",
       "      <td>NaN</td>\n",
       "      <td>11.129887</td>\n",
       "      <td>NaN</td>\n",
       "      <td>24.515813</td>\n",
       "      <td>NaN</td>\n",
       "    </tr>\n",
       "    <tr>\n",
       "      <th>Zambia</th>\n",
       "      <td>0.843340</td>\n",
       "      <td>6.340584e+07</td>\n",
       "      <td>3.163072</td>\n",
       "      <td>3.846444e+07</td>\n",
       "      <td>NaN</td>\n",
       "      <td>27.219337</td>\n",
       "      <td>NaN</td>\n",
       "      <td>22.318554</td>\n",
       "      <td>11.152524</td>\n",
       "      <td>24.435006</td>\n",
       "      <td>...</td>\n",
       "      <td>16591390.0</td>\n",
       "      <td>9550336.0</td>\n",
       "      <td>57.562</td>\n",
       "      <td>7041054.0</td>\n",
       "      <td>42.438</td>\n",
       "      <td>NaN</td>\n",
       "      <td>267.841100</td>\n",
       "      <td>NaN</td>\n",
       "      <td>650.078203</td>\n",
       "      <td>NaN</td>\n",
       "    </tr>\n",
       "    <tr>\n",
       "      <th>Zimbabwe</th>\n",
       "      <td>0.200560</td>\n",
       "      <td>1.384487e+07</td>\n",
       "      <td>2.063867</td>\n",
       "      <td>1.853078e+09</td>\n",
       "      <td>NaN</td>\n",
       "      <td>38.145138</td>\n",
       "      <td>NaN</td>\n",
       "      <td>41.748383</td>\n",
       "      <td>6.010074</td>\n",
       "      <td>218.826912</td>\n",
       "      <td>...</td>\n",
       "      <td>16150362.0</td>\n",
       "      <td>10934441.0</td>\n",
       "      <td>67.704</td>\n",
       "      <td>5215921.0</td>\n",
       "      <td>32.296</td>\n",
       "      <td>3.728765</td>\n",
       "      <td>71.521770</td>\n",
       "      <td>0.372329</td>\n",
       "      <td>147.131065</td>\n",
       "      <td>5.206453</td>\n",
       "    </tr>\n",
       "  </tbody>\n",
       "</table>\n",
       "<p>217 rows × 166 columns</p>\n",
       "</div>"
      ],
      "text/plain": [
       "Series Code            BM.KLT.DINV.WD.GD.ZS  BM.TRF.PWKR.CD.DT  \\\n",
       "Country Name                                                     \n",
       "Afghanistan                       -0.075895       1.182164e+08   \n",
       "Albania                            0.059209       1.471281e+08   \n",
       "Algeria                            0.029423       5.897023e+07   \n",
       "American Samoa                          NaN                NaN   \n",
       "Andorra                                 NaN                NaN   \n",
       "...                                     ...                ...   \n",
       "Virgin Islands (U.S.)                   NaN                NaN   \n",
       "West Bank and Gaza                -0.335063       3.189228e+07   \n",
       "Yemen, Rep.                        0.191607                NaN   \n",
       "Zambia                             0.843340       6.340584e+07   \n",
       "Zimbabwe                           0.200560       1.384487e+07   \n",
       "\n",
       "Series Code            BX.KLT.DINV.WD.GD.ZS  BX.TRF.PWKR.CD  \\\n",
       "Country Name                                                  \n",
       "Afghanistan                        0.480710    2.774835e+08   \n",
       "Albania                            8.786734    9.960014e+08   \n",
       "Algeria                            1.029475    1.696801e+07   \n",
       "American Samoa                          NaN             NaN   \n",
       "Andorra                                 NaN             NaN   \n",
       "...                                     ...             ...   \n",
       "Virgin Islands (U.S.)                   NaN             NaN   \n",
       "West Bank and Gaza                 2.208254    2.010197e+08   \n",
       "Yemen, Rep.                       -3.080162             NaN   \n",
       "Zambia                             3.163072    3.846444e+07   \n",
       "Zimbabwe                           2.063867    1.853078e+09   \n",
       "\n",
       "Series Code            CM.MKT.LCAP.GD.ZS  EG.ELC.ACCS.ZS  EG.USE.ELEC.KH.PC  \\\n",
       "Country Name                                                                  \n",
       "Afghanistan                          NaN       84.137138                NaN   \n",
       "Albania                              NaN      100.000000                NaN   \n",
       "Algeria                              NaN       99.439568                NaN   \n",
       "American Samoa                       NaN             NaN                NaN   \n",
       "Andorra                              NaN      100.000000                NaN   \n",
       "...                                  ...             ...                ...   \n",
       "Virgin Islands (U.S.)                NaN      100.000000                NaN   \n",
       "West Bank and Gaza             25.250974      100.000000                NaN   \n",
       "Yemen, Rep.                          NaN       71.642349                NaN   \n",
       "Zambia                               NaN       27.219337                NaN   \n",
       "Zimbabwe                             NaN       38.145138                NaN   \n",
       "\n",
       "Series Code            EN.POP.DNST  FB.ATM.TOTL.P5  FB.CBK.BRWR.P3  ...  \\\n",
       "Country Name                                                        ...   \n",
       "Afghanistan              53.083405        1.074215        3.051954  ...   \n",
       "Albania                 104.967190       33.806812      157.797944  ...   \n",
       "Algeria                  17.048895        8.668604       39.065192  ...   \n",
       "American Samoa          277.995000             NaN             NaN  ...   \n",
       "Andorra                 164.427660             NaN             NaN  ...   \n",
       "...                            ...             ...             ...  ...   \n",
       "Virgin Islands (U.S.)   307.171429             NaN             NaN  ...   \n",
       "West Bank and Gaza      756.074086       22.711191      134.124190  ...   \n",
       "Yemen, Rep.              52.245796             NaN             NaN  ...   \n",
       "Zambia                   22.318554       11.152524       24.435006  ...   \n",
       "Zimbabwe                 41.748383        6.010074      218.826912  ...   \n",
       "\n",
       "Series Code            SP.POP.TOTL  SP.RUR.TOTL  SP.RUR.TOTL.ZS  SP.URB.TOTL  \\\n",
       "Country Name                                                                   \n",
       "Afghanistan             34656032.0   25985093.0          74.980    8670939.0   \n",
       "Albania                  2876101.0    1195854.0          41.579    1680247.0   \n",
       "Algeria                 40606052.0   11589373.0          28.541   29016679.0   \n",
       "American Samoa             55599.0       7118.0          12.802      48481.0   \n",
       "Andorra                    77281.0       9082.0          11.752      68199.0   \n",
       "...                            ...          ...             ...          ...   \n",
       "Virgin Islands (U.S.)     107510.0       4859.0           4.520     102651.0   \n",
       "West Bank and Gaza       4551566.0    1109308.0          24.372    3442258.0   \n",
       "Yemen, Rep.             27584213.0   17821057.0          64.606    9763156.0   \n",
       "Zambia                  16591390.0    9550336.0          57.562    7041054.0   \n",
       "Zimbabwe                16150362.0   10934441.0          67.704    5215921.0   \n",
       "\n",
       "Series Code            SP.URB.TOTL.IN.ZS  TM.VAL.ICTG.ZS.UN  \\\n",
       "Country Name                                                  \n",
       "Afghanistan                       25.020           0.262056   \n",
       "Albania                           58.421           2.941437   \n",
       "Algeria                           71.459           5.181022   \n",
       "American Samoa                    87.198                NaN   \n",
       "Andorra                           88.248                NaN   \n",
       "...                                  ...                ...   \n",
       "Virgin Islands (U.S.)             95.480                NaN   \n",
       "West Bank and Gaza                75.628           3.103988   \n",
       "Yemen, Rep.                       35.394                NaN   \n",
       "Zambia                            42.438                NaN   \n",
       "Zimbabwe                          32.296           3.728765   \n",
       "\n",
       "Series Code            TX.QTY.MRCH.XD.WD  TX.VAL.FUEL.ZS.UN  \\\n",
       "Country Name                                                  \n",
       "Afghanistan                   185.045514                NaN   \n",
       "Albania                       556.660364          11.178982   \n",
       "Algeria                       144.936023          93.992128   \n",
       "American Samoa                 44.999741                NaN   \n",
       "Andorra                       149.884060                NaN   \n",
       "...                                  ...                ...   \n",
       "Virgin Islands (U.S.)                NaN                NaN   \n",
       "West Bank and Gaza            132.926211           0.163516   \n",
       "Yemen, Rep.                    11.129887                NaN   \n",
       "Zambia                        267.841100                NaN   \n",
       "Zimbabwe                       71.521770           0.372329   \n",
       "\n",
       "Series Code            TX.VAL.MRCH.XD.WD  TX.VAL.TECH.MF.ZS  \n",
       "Country Name                                                 \n",
       "Afghanistan                   434.379370                NaN  \n",
       "Albania                       750.385083           0.647751  \n",
       "Algeria                       131.099918           0.343524  \n",
       "American Samoa                112.619116                NaN  \n",
       "Andorra                       186.046284                NaN  \n",
       "...                                  ...                ...  \n",
       "Virgin Islands (U.S.)                NaN                NaN  \n",
       "West Bank and Gaza            199.093781           0.593923  \n",
       "Yemen, Rep.                    24.515813                NaN  \n",
       "Zambia                        650.078203                NaN  \n",
       "Zimbabwe                      147.131065           5.206453  \n",
       "\n",
       "[217 rows x 166 columns]"
      ]
     },
     "metadata": {},
     "output_type": "display_data"
    }
   ],
   "source": [
    "worldbank_data_wide = worldbank_data1.pivot(index=\"Country Name\", columns=\"Series Code\", values = \"2016 [YR2016]\") #my actual first successful pivot... i can feel its strength!\n",
    "display(worldbank_data_wide)  #display as intelligent print"
   ]
  },
  {
   "cell_type": "markdown",
   "metadata": {},
   "source": [
    "#### 1/c. Numeric Dataformat\n",
    "\n",
    "Don't really know whats going on here, but I am going to look into the value formats"
   ]
  },
  {
   "cell_type": "code",
   "execution_count": 211,
   "metadata": {
    "scrolled": false
   },
   "outputs": [
    {
     "data": {
      "text/plain": [
       "True"
      ]
     },
     "execution_count": 211,
     "metadata": {},
     "output_type": "execute_result"
    }
   ],
   "source": [
    "type(worldbank_data_wide.loc[\"Hungary\"][0]) == np.float64"
   ]
  },
  {
   "cell_type": "markdown",
   "metadata": {},
   "source": [
    "Okey, let's go through the whole data..."
   ]
  },
  {
   "cell_type": "code",
   "execution_count": 212,
   "metadata": {},
   "outputs": [
    {
     "data": {
      "text/plain": [
       "array([0., 0., 0., 0., 0., 0., 0., 0., 0., 0., 0., 0., 0., 0., 0., 0., 0.,\n",
       "       0., 0., 0., 0., 0., 0., 0., 0., 0., 0., 0., 0., 0., 0., 0., 0., 0.,\n",
       "       0., 0., 0., 0., 0., 0., 0., 0., 0., 0., 0., 0., 0., 0., 0., 0., 0.,\n",
       "       0., 0., 0., 0., 0., 0., 0., 0., 0., 0., 0., 0., 0., 0., 0., 0., 0.,\n",
       "       0., 0., 0., 0., 0., 0., 0., 0., 0., 0., 0., 0., 0., 0., 0., 0., 0.,\n",
       "       0., 0., 0., 0., 0., 0., 0., 0., 0., 0., 0., 0., 0., 0., 0., 0., 0.,\n",
       "       0., 0., 0., 0., 0., 0., 0., 0., 0., 0., 0., 0., 0., 0., 0., 0., 0.,\n",
       "       0., 0., 0., 0., 0., 0., 0., 0., 0., 0., 0., 0., 0., 0., 0., 0., 0.,\n",
       "       0., 0., 0., 0., 0., 0., 0., 0., 0., 0., 0., 0., 0., 0., 0., 0., 0.,\n",
       "       0., 0., 0., 0., 0., 0., 0., 0., 0., 0., 0., 0., 0.])"
      ]
     },
     "metadata": {},
     "output_type": "display_data"
    }
   ],
   "source": [
    "array_copy = np.array(worldbank_data_wide).T     #copy and transpose\n",
    "array_f_str_count = np.zeros(array_copy.shape[0])\n",
    "for i,j in enumerate(array_copy):              #i am too used to for i in range(x_min,x_max): for j in range(y_min,y_max):\n",
    "    array_f_str_count[i] = sum(1 for value in j if type(value)==str)\n",
    "    \n",
    "display(array_f_str_count)                       #so they seem like they are in the correct format"
   ]
  },
  {
   "cell_type": "markdown",
   "metadata": {},
   "source": [
    "I don't think I need a conversion to numeric, but I will do it just get to know it."
   ]
  },
  {
   "cell_type": "code",
   "execution_count": 213,
   "metadata": {},
   "outputs": [],
   "source": [
    "for column in worldbank_data_wide.columns:\n",
    "    worldbank_data_wide[column] = pd.to_numeric(worldbank_data_wide[column])"
   ]
  },
  {
   "cell_type": "markdown",
   "metadata": {},
   "source": [
    "<font size=\"4\"> My guess is that the many \"..\" are messing with datatypes and I added them as a NaN format to read_csv to load it as NaN, which is in float64, which is numeric. I really like how pleasently smart and easy it is.</font>"
   ]
  },
  {
   "cell_type": "markdown",
   "metadata": {},
   "source": [
    "-----\n",
    "### 2. Data preprocessing and inspection\n",
    "- Visualize the missing values!\n",
    "- Keep only those countries which has less than 60 missing features in the original table.\n",
    "- After this drop all features which have missing values for the remaining countries. (Imputation would also work but may introduce a bias because there is less data for less developed countries generally.)\n",
    "- How many counties and features do we have left?\n",
    "- Read the kept features' descriptions. In the original table the Series Name describe the meaning of the features. What do you think, based only on these information, which counties are the most similar to Hungary? And Greece?\n",
    "\n",
    "#### 2/a. Visualizing missing data"
   ]
  },
  {
   "cell_type": "code",
   "execution_count": 214,
   "metadata": {},
   "outputs": [
    {
     "data": {
      "image/png": "[encoded data removed]",
      "text/plain": [
       "<Figure size 796.8x1041.6 with 1 Axes>"
      ]
     },
     "metadata": {
      "needs_background": "light"
     },
     "output_type": "display_data"
    }
   ],
   "source": [
    "plt.figure(figsize=(166/15, 217/15))\n",
    "im = plt.imshow(worldbank_data_wide.isna(), aspect='auto')\n",
    "plt.show()"
   ]
  },
  {
   "cell_type": "markdown",
   "metadata": {},
   "source": [
    "Okey, seems like there is a lot of missing data present. ONTO THE SORTING!\n",
    "#### 2/b. Dropping rows with more than 60 missing values\n",
    "pandas dropna helps me out here!"
   ]
  },
  {
   "cell_type": "code",
   "execution_count": 215,
   "metadata": {},
   "outputs": [
    {
     "data": {
      "image/png": "[encoded data removed]",
      "text/plain": [
       "<Figure size 796.8x1041.6 with 1 Axes>"
      ]
     },
     "metadata": {
      "needs_background": "light"
     },
     "output_type": "display_data"
    }
   ],
   "source": [
    "worldbank_data_wide_c = worldbank_data_wide.dropna(axis='rows', thresh=(166-60))\n",
    "worldbank_data_wide_c\n",
    "\n",
    "plt.figure(figsize=(166/15, 217/15))\n",
    "plt.title(\"Countries with less than 60 missing values\", fontsize=24)\n",
    "im = plt.imshow(worldbank_data_wide_c.isna(), aspect='auto')\n",
    "plt.show()"
   ]
  },
  {
   "cell_type": "markdown",
   "metadata": {},
   "source": [
    "#### 2/c. Dropping features"
   ]
  },
  {
   "cell_type": "code",
   "execution_count": 216,
   "metadata": {},
   "outputs": [
    {
     "data": {
      "image/png": "[encoded data removed]",
      "text/plain": [
       "<Figure size 796.8x1041.6 with 1 Axes>"
      ]
     },
     "metadata": {
      "needs_background": "light"
     },
     "output_type": "display_data"
    }
   ],
   "source": [
    "worldbank_data_wide_cnf = worldbank_data_wide_c.dropna(axis=\"columns\", thresh=110)  #where to draw the threshhold is a mystery\n",
    "plt.figure(figsize=(166/15, 217/15))\n",
    "plt.title(\"Filtered countries and features\", fontsize=24)\n",
    "im = plt.imshow(worldbank_data_wide_cnf.isna(), aspect='auto')\n",
    "plt.show()"
   ]
  },
  {
   "cell_type": "markdown",
   "metadata": {},
   "source": [
    "So, it looks mostly clean. I had to try different threshholds to see which one is good to remove most of the NaNs but won't remove all of them.\n",
    "\n",
    "`NOTE`: yes, fill NaNs with something - the mean of each column. NaN values stop PCA due to the no comparison, hence filling in is required. Means involve bias, but I removed most of the means, so minimal bias is inserted."
   ]
  },
  {
   "cell_type": "code",
   "execution_count": 217,
   "metadata": {},
   "outputs": [],
   "source": [
    "worldbank_data_wide_cnf1 = worldbank_data_wide_cnf.fillna(worldbank_data_wide_cnf.mean())"
   ]
  },
  {
   "cell_type": "markdown",
   "metadata": {},
   "source": [
    "#### 2/d. Closest country to Hungary and Greece.\n",
    "\n",
    "My initial thought is to measure the Hamming distance with each country, but that not just seems to be way obvious and some stuff doesn't doesnt scale in a linear way."
   ]
  },
  {
   "cell_type": "code",
   "execution_count": 218,
   "metadata": {
    "scrolled": false
   },
   "outputs": [
    {
     "data": {
      "text/plain": [
       "'\\nfor i in worldbank_data_wide_cnf.index:\\n    #country name is i\\n    partial_sum = 0\\n    for j in range(0,len(worldbank_data_wide_cnf.loc[country_name])):\\n        if country_name != \"Hungary\":\\n            partial_sum +=  np.abs(worldbank_data_wide_cnf.loc[i][j] - worldbank_data_wide_cnf.loc[\"Hungary\"][j]) / worldbank_data_wide_cnf[worldbank_data_wide_cnf.columns[j]]\\n        #calculate distance and then normalize it\\n    print(partial_sum)\\n'"
      ]
     },
     "execution_count": 218,
     "metadata": {},
     "output_type": "execute_result"
    }
   ],
   "source": [
    "#display(worldbank_data_wide_cnf.loc['Hungary'])\n",
    "#display(worldbank_data_wide_cnf.loc['Greece'])\n",
    "#display(worldbank_data_wide_cnf.index[0])\n",
    "\n",
    "dist1 = np.zeros(len(worldbank_data_wide_cnf.index))\n",
    "\n",
    "#go through data\n",
    "\"\"\"\n",
    "for i in worldbank_data_wide_cnf.index:\n",
    "    #country name is i\n",
    "    partial_sum = 0\n",
    "    for j in range(0,len(worldbank_data_wide_cnf.loc[country_name])):\n",
    "        if country_name != \"Hungary\":\n",
    "            partial_sum +=  np.abs(worldbank_data_wide_cnf.loc[i][j] - worldbank_data_wide_cnf.loc[\"Hungary\"][j]) / worldbank_data_wide_cnf[worldbank_data_wide_cnf.columns[j]]\n",
    "        #calculate distance and then normalize it\n",
    "    print(partial_sum)\n",
    "\"\"\""
   ]
  },
  {
   "cell_type": "code",
   "execution_count": 225,
   "metadata": {},
   "outputs": [
    {
     "name": "stdout",
     "output_type": "stream",
     "text": [
      "0.0758945950132622\n",
      "147128144.977279\n",
      "1.02947518020851\n",
      "352639302.322353\n",
      "100.0\n",
      "3.1515052783671598\n",
      "116.05858871334499\n",
      "132.387827722937\n",
      "0.34637693\n",
      "81.27358619311227\n",
      "45.2795104427428\n",
      "7.0\n",
      "0.0\n",
      "0.0\n",
      "4.0\n",
      "225.0\n",
      "90.0\n",
      "65.0\n",
      "152.0\n",
      "9.6\n",
      "11058.0\n",
      "125.83434831467301\n",
      "0.40612057008436897\n",
      "0.0374853301231828\n",
      "50.3228178676892\n",
      "8.61742357093553\n",
      "18.583480764197898\n",
      "3.85380920890056\n",
      "13.627992453460902\n",
      "39.6708289038252\n",
      "9093538889.298521\n",
      "3.3\n",
      "6.6714829466281405\n",
      "5601275837.35185\n",
      "4.7676748300516705\n",
      "12.8417779873136\n",
      "13262493197.5264\n",
      "7.83319602002661\n",
      "33.815689133586396\n",
      "1.9640771294674702\n",
      "14804.280286408853\n",
      "14120.2116371665\n",
      "0.3\n",
      "38.4370002746582\n",
      "29.2590007781982\n",
      "3.89400005340576\n",
      "1.30400002002716\n",
      "0.912000000476837\n",
      "1.4529999494552601\n",
      "6.90899991989136\n",
      "8.72000026702881\n",
      "56.801998138427706\n",
      "56.310001373290994\n",
      "12.864000320434599\n",
      "73.1989974975586\n",
      "3751523.0\n",
      "45.0229988098145\n",
      "84.4119987487793\n",
      "65.22399842739101\n",
      "70.8870010375977\n",
      "55.021999359130895\n",
      "90.9980010986328\n",
      "0.39599999785423295\n",
      "0.0590000003576279\n",
      "13.2440004348755\n",
      "23380.791015625\n",
      "25.1770000457764\n",
      "28.4039993286133\n",
      "17.3500003814697\n",
      "84.588996887207\n",
      "52.354000091552706\n",
      "70.8830032348633\n",
      "13.895999908447301\n",
      "77.2269973754883\n",
      "65.443000793457\n",
      "27719344.0\n",
      "37.523998260498\n",
      "12.788999557495101\n",
      "1.6599999666213998\n",
      "8.39400005340576\n",
      "5.3289999961853\n",
      "27.7819995880127\n",
      "11.392000000000001\n",
      "84.7\n",
      "80.866\n",
      "1.5330000000000001\n",
      "10279811.0\n",
      "44.271982953391294\n",
      "21613466.0\n",
      "72.4642085675011\n",
      "454428.0\n",
      "18.9385646610552\n",
      "76.1267189789361\n",
      "0.0687231379365168\n",
      "127540423.0\n",
      "2041983.0\n",
      "31.703000000000003\n",
      "411597.0\n",
      "61.36\n",
      "2.8342886749000002\n",
      "425.0412076\n",
      "1.47022422929957\n",
      "86.56082090000001\n",
      "17.777874663850103\n",
      "17.777874663850103\n"
     ]
    }
   ],
   "source": [
    "country1 = \"Hungary\"\n",
    "country2 = \"Greece\"\n",
    "\n",
    "#for j in range(0,len(worldbank_data_wide_cnf.loc[country_name])):\n",
    "    #partial_sum += np.abs(worldbank_data_wide_cnf.loc[country1][j] - worldbank_data_wide_cnf.loc[country2][j]) / np.max(np.abs(worldbank_data_wide_cnf[worldbank_data_wide_cnf.columns[j]][j]))\n",
    "#print((worldbank_data_wide_cnf.loc[country1][0] - worldbank_data_wide_cnf.loc[country2][0]) / np.max(np.abs(worldbank_data_wide_cnf[worldbank_data_wide_cnf.columns[j]][j])))\n",
    "for j in range(0,len(worldbank_data_wide_cnf1.loc[country_name])):\n",
    "    print(np.max(np.abs(worldbank_data_wide_cnf1[worldbank_data_wide_cnf1.columns[j]][j])))\n",
    "print(np.max(np.abs(worldbank_data_wide_cnf1[worldbank_data_wide_cnf1.columns[j]][j])))"
   ]
  },
  {
   "cell_type": "code",
   "execution_count": 220,
   "metadata": {},
   "outputs": [],
   "source": [
    "#worldbank_data_wide_cnf[worldbank_data_wide_cnf.columns[9]][9]"
   ]
  },
  {
   "cell_type": "markdown",
   "metadata": {},
   "source": [
    "Okey, I can't see it through, but I feel that I am inches close."
   ]
  },
  {
   "cell_type": "markdown",
   "metadata": {},
   "source": [
    "------\n",
    "### 3. PCA\n",
    "- Perform PCA with 3 principal components on the filtered, imputed data (from now on, data refers to the filtered, imputed dataset)\n",
    "- Plot the three embedded 2D combination next to each other (0 vs 1, 0 vs 2 and 1 vs 2)\n",
    "- It seems that the embedding is really dominated by a single direction. Normalize the data (each feature should have zero mean and unit variance after normalization) and re-do the PCA and the plotting (do not delete the previous plots, just make new ones).\n",
    "- Give some explaination for the second principal component: Look at the coefficients of the features which were use the calculate that principal component. For the features with the largest coefficient (in absolute value) look up the Series Name for the Code.\n"
   ]
  },
  {
   "cell_type": "code",
   "execution_count": 254,
   "metadata": {},
   "outputs": [],
   "source": [
    "#stuff from sklearn, have to get to know it better\n",
    "from sklearn import decomposition\n",
    "from sklearn.manifold import TSNE\n",
    "from sklearn.cluster import KMeans\n",
    "from sklearn.metrics import mean_squared_error\n",
    "from sklearn.preprocessing import StandardScaler\n",
    "\n",
    "#as i was normalazing earlier the sums, it good to have a function that normalazes input data\n",
    "def norm_data(x):\n",
    "    #I DONT LIKE BURNING\n",
    "    x = pd.DataFrame(StandardScaler().fit_transform(x), index=worldbank_data_wide_cnf1.index, columns=worldbank_data_wide_cnf1.columns)\n",
    "    return x\n",
    "\n",
    "#lets do a pca\n",
    "def PCA(data):\n",
    "    #do pca -> return data\n",
    "    pca = decomposition.PCA(n_components=3)               #burning in 3d\n",
    "    #TypeError: float() argument must be a string or a number, not 'method' - some idiot with xxx.mean without ()\n",
    "    pca.fit(data)\n",
    "    data_pca = pca.transform(data)\n",
    "    \n",
    "    #and to see for impactful the PCA features\n",
    "    ex_var = np.var(data_pca, axis=0)\n",
    "    ex_var_ratio = ex_var/np.sum(ex_var)\n",
    "    \n",
    "    return pca, data_pca, ex_var_ratio\n",
    "\n",
    "def get_impactful_features(pca, features,f_num):\n",
    "    \n",
    "    pca_basis = pca.components_\n",
    "    \n",
    "    pc_f_idx = []\n",
    "    pc_f = []\n",
    "    for pc in range(pca_basis.shape[0]):\n",
    "        pc_current = pca_basis[pc]\n",
    "        pc_n_f_idx = []\n",
    "        pc_n_f = []\n",
    "        for i in range(f_num):\n",
    "            f_idx = np.where(np.abs(pc_current) == sorted(np.abs(pc_current))[::-1][i])[0][0]\n",
    "            pc_n_f_idx.append(f_idx)\n",
    "            pc_n_f.append(list(features.keys())[f_idx])\n",
    "        pc_f_idx.append(pc_n_f_idx)\n",
    "        pc_f.append(pc_n_f)\n",
    "\n",
    "    return pc_f_idx, pc_f\n",
    "\n",
    "#great help https://towardsdatascience.com/pca-clearly-explained-how-when-why-to-use-it-and-feature-importance-a-guide-in-python-7c274582c37e"
   ]
  },
  {
   "cell_type": "markdown",
   "metadata": {},
   "source": [
    "#### 3/a. Unscaled (No normalization)"
   ]
  },
  {
   "cell_type": "code",
   "execution_count": 230,
   "metadata": {
    "scrolled": false
   },
   "outputs": [
    {
     "name": "stdout",
     "output_type": "stream",
     "text": [
      "Ration [0.917 0.080 0.003 ]\t Weight of the three features: 1.000\n"
     ]
    },
    {
     "data": {
      "image/png": "[encoded data removed]",
      "text/plain": [
       "<Figure size 1080x360 with 3 Axes>"
      ]
     },
     "metadata": {
      "needs_background": "light"
     },
     "output_type": "display_data"
    }
   ],
   "source": [
    "pca, data_pca, ex_var_ration = PCA(data=worldbank_data_wide_cnf1)\n",
    "print(\"Ration [{:.3f} {:.3f} {:.3f} ]\\t Weight of the three features: {:.3f}\".format(*ex_var_ration, sum(ex_var_ration))) #YES WE HAVE THEEEEM\n",
    "\n",
    "fig, ax = plt.subplots(1,3, figsize=(15,5))\n",
    "ax[0].scatter(data_pca[:,0], data_pca[:,1])\n",
    "ax[1].scatter(data_pca[:,1], data_pca[:,2])\n",
    "ax[2].scatter(data_pca[:,0], data_pca[:,2])\n",
    "\n",
    "ax[0].set_xlabel(\"First PC\", fontsize=19)\n",
    "ax[1].set_xlabel(\"Second PC\", fontsize=19)\n",
    "ax[2].set_xlabel(\"First PC\", fontsize=19)\n",
    "\n",
    "ax[0].set_ylabel(\"Second PC\", fontsize=19)\n",
    "ax[1].set_ylabel(\"Third PC\", fontsize=19)\n",
    "ax[2].set_ylabel(\"Third PC\", fontsize=19)\n",
    "\n",
    "for i in range(3):\n",
    "    ax[i].grid(True)\n",
    "\n",
    "fig.tight_layout()\n",
    "plt.show()"
   ]
  },
  {
   "cell_type": "markdown",
   "metadata": {},
   "source": [
    "#### 3/b. Scaled (Normalization)"
   ]
  },
  {
   "cell_type": "code",
   "execution_count": 231,
   "metadata": {},
   "outputs": [
    {
     "name": "stdout",
     "output_type": "stream",
     "text": [
      "Ration [0.655 0.208 0.137 ]\t Weight of the three features: 1.000\n"
     ]
    },
    {
     "data": {
      "image/png": "[encoded data removed]",
      "text/plain": [
       "<Figure size 1080x360 with 3 Axes>"
      ]
     },
     "metadata": {
      "needs_background": "light"
     },
     "output_type": "display_data"
    }
   ],
   "source": [
    "worldbank_wide_cnf1_norm = norm_data(worldbank_data_wide_cnf1)\n",
    "\n",
    "pca_s, data_pca_s, ex_var_ration_s = PCA(data=worldbank_wide_cnf1_norm)\n",
    "print(\"Ration [{:.3f} {:.3f} {:.3f} ]\\t Weight of the three features: {:.3f}\".format(*ex_var_ration_s, sum(ex_var_ration_s))) #YES WE HAVE THEEEEM\n",
    "\n",
    "fig, ax = plt.subplots(1,3, figsize=(15,5))\n",
    "ax[0].scatter(data_pca_s[:,0], data_pca_s[:,1])\n",
    "ax[1].scatter(data_pca_s[:,1], data_pca_s[:,2])\n",
    "ax[2].scatter(data_pca_s[:,0], data_pca_s[:,2])\n",
    "\n",
    "ax[0].set_xlabel(\"First PC\", fontsize=19)\n",
    "ax[1].set_xlabel(\"Second PC\", fontsize=19)\n",
    "ax[2].set_xlabel(\"First PC\", fontsize=19)\n",
    "\n",
    "ax[0].set_ylabel(\"Second PC\", fontsize=19)\n",
    "ax[1].set_ylabel(\"Third PC\", fontsize=19)\n",
    "ax[2].set_ylabel(\"Third PC\", fontsize=19)\n",
    "\n",
    "for i in range(3):\n",
    "    ax[i].grid(True)\n",
    "\n",
    "fig.tight_layout()\n",
    "plt.show()"
   ]
  },
  {
   "cell_type": "markdown",
   "metadata": {},
   "source": [
    "OKEY! So a scaling could be very meaningful! And shows how impactful some features really are, due to some overshadowing. Let's see why this change exists! I moved the dict with upper, but i still have to get what it is...\n"
   ]
  },
  {
   "cell_type": "code",
   "execution_count": 295,
   "metadata": {},
   "outputs": [
    {
     "name": "stdout",
     "output_type": "stream",
     "text": [
      "0 : Employment in industry, male (% of male employment) (modeled ILO estimate)\n",
      "1 : Employment in services, male (% of male employment) (modeled ILO estimate)\n",
      "2 : Employment in agriculture, male (% of male employment) (modeled ILO estimate)\n",
      "3 : Adolescent fertility rate (births per 1,000 women ages 15-19)\n",
      "4 : Agriculture, value added (% of GDP)\n"
     ]
    }
   ],
   "source": [
    "pc_f_idx, pc_f = get_impactful_features(pca, features, 5)\n",
    "pc_f = np.array(pc_f)\n",
    "\n",
    "k = list(features.keys())\n",
    "v = list(features.values())\n",
    "\n",
    "for i in range(pc_f.shape[1]):\n",
    "    print('{} : {}'.format(i,v[k.index(str(pc_f[1,i]))]))"
   ]
  },
  {
   "cell_type": "markdown",
   "metadata": {},
   "source": [
    "So the second PC is related to employment rates... Not suprise that this is the second PC\n",
    "\n",
    "<font size=\"4\"> This is where I stop. Due to illness, I am much slower... </font>"
   ]
  },
  {
   "cell_type": "markdown",
   "metadata": {},
   "source": [
    "-----\n",
    "### 4. T-SNE\n",
    "- Perform T-SNE on the scaled data with 2 components\n",
    "- Plot the embeddings results. Add a text label for each point to make it possible to interpret the results. It will not be possible to read all, but try to make it useful, see the attached image as an example!\n",
    "- Highlight Hungary, Greece, Norway, China, Russia (HUN, GRC, NOR, CHN, RUS)! Which countries are the closest one to Hungary and Greece?\n"
   ]
  },
  {
   "cell_type": "code",
   "execution_count": null,
   "metadata": {},
   "outputs": [],
   "source": []
  },
  {
   "cell_type": "markdown",
   "metadata": {},
   "source": [
    "-------\n",
    "### 5. Hierarchical and K-Means clustering\n",
    "- Perform hierarchical clustering on the filtered and scaled data (hint: use seaborn)\n",
    "- Try to plot in a way that all country's name is visible\n",
    "- Perform K-Means clustering on the filtered and scaled data with 4 clusters.\n",
    "- Make a plot with text label for each point as in the previous excersice but use different color for every cluster.\n",
    "- Write down your impressions that you got from these two plots! Which cluster are China and Hungary in?\n"
   ]
  },
  {
   "cell_type": "code",
   "execution_count": null,
   "metadata": {},
   "outputs": [],
   "source": []
  },
  {
   "cell_type": "markdown",
   "metadata": {},
   "source": [
    "----\n",
    "### Hints:\n",
    "- On total you can get 10 points for fully completing all tasks.\n",
    "- Decorate your notebook with questions, explanation etc, make it self contained and understandable!\n",
    "- Comment your code when necessary!\n",
    "- Write functions for repetitive tasks!\n",
    "- Use the pandas package for data loading and handling\n",
    "- Use matplotlib and seaborn for plotting or bokeh and plotly for interactive investigation\n",
    "- Use the scikit learn package for almost everything\n",
    "- Use for loops only if it is really necessary!\n",
    "- Code sharing is not allowed between students! Sharing code will result in zero points.\n",
    "- If you use code found on web, it is OK, but, make its source clear!"
   ]
  },
  {
   "cell_type": "code",
   "execution_count": null,
   "metadata": {},
   "outputs": [],
   "source": []
  }
 ],
 "metadata": {
  "colab": {
   "collapsed_sections": [],
   "include_colab_link": true,
   "name": "02_BLANK.ipynb",
   "provenance": []
  },
  "kernelspec": {
   "display_name": "Python 3",
   "language": "python",
   "name": "python3"
  },
  "language_info": {
   "codemirror_mode": {
    "name": "ipython",
    "version": 3
   },
   "file_extension": ".py",
   "mimetype": "text/x-python",
   "name": "python",
   "nbconvert_exporter": "python",
   "pygments_lexer": "ipython3",
   "version": "3.7.0"
  }
 },
 "nbformat": 4,
 "nbformat_minor": 1
}
